{
 "cells": [
  {
   "cell_type": "code",
   "execution_count": 2,
   "id": "166919da-8e13-462a-bf5e-e62b4891bcbc",
   "metadata": {},
   "outputs": [
    {
     "ename": "FileNotFoundError",
     "evalue": "[Errno 2] No such file or directory: '/home/pengshijie/bbserverleeslees/DIC/MachineLearning/'",
     "output_type": "error",
     "traceback": [
      "\u001b[0;31m---------------------------------------------------------------------------\u001b[0m",
      "\u001b[0;31mFileNotFoundError\u001b[0m                         Traceback (most recent call last)",
      "Cell \u001b[0;32mIn[2], line 17\u001b[0m\n\u001b[1;32m     15\u001b[0m             r \u001b[39m=\u001b[39m os\u001b[39m.\u001b[39mpopen(\u001b[39m'\u001b[39m\u001b[39mbash  invoke.sh\u001b[39m\u001b[39m'\u001b[39m)\u001b[39m.\u001b[39mread()\n\u001b[1;32m     16\u001b[0m             \u001b[39mprint\u001b[39m(r)\n\u001b[0;32m---> 17\u001b[0m deploy_dl()\n",
      "Cell \u001b[0;32mIn[2], line 7\u001b[0m, in \u001b[0;36mdeploy_dl\u001b[0;34m()\u001b[0m\n\u001b[1;32m      6\u001b[0m \u001b[39mdef\u001b[39;00m \u001b[39mdeploy_dl\u001b[39m():\n\u001b[0;32m----> 7\u001b[0m     os\u001b[39m.\u001b[39;49mchdir(dic)\n\u001b[1;32m      8\u001b[0m     current_path \u001b[39m=\u001b[39m os\u001b[39m.\u001b[39mgetcwd()\n\u001b[1;32m      9\u001b[0m     \u001b[39mfor\u001b[39;00m root, dirs, files \u001b[39min\u001b[39;00m os\u001b[39m.\u001b[39mwalk(current_path):\n",
      "\u001b[0;31mFileNotFoundError\u001b[0m: [Errno 2] No such file or directory: '/home/pengshijie/bbserverleeslees/DIC/MachineLearning/'"
     ]
    }
   ],
   "source": [
    "import os\n",
    "\n",
    "dic = \"/home/pengshijie/bbserverlees/DIC/MachineLearning/\"\n",
    "\n",
    "\n",
    "def deploy_dl():\n",
    "    os.chdir(dic)\n",
    "    current_path = os.getcwd()\n",
    "    for root, dirs, files in os.walk(current_path):\n",
    "        print(dirs)\n",
    "        for m in dirs:\n",
    "            p = os.path.join(current_path, m)\n",
    "            print(p)\n",
    "            os.chdir(p)\n",
    "            r = os.popen('bash  invoke.sh').read()\n",
    "            print(r)\n",
    "deploy_dl()"
   ]
  },
  {
   "cell_type": "code",
   "execution_count": null,
   "id": "18aa7a87",
   "metadata": {},
   "outputs": [],
   "source": [
    "import os\n",
    "\n",
    "dic = \"/home/pengshijie/bbserverlees/DIC/deeplearning/Inference-of-ml-kubeless/\"\n",
    "\n",
    "\n",
    "def deploy_ml():\n",
    "    os.chdir(dic)\n",
    "    current_path = os.getcwd()\n",
    "    for root, dirs, files in os.walk(current_path):\n",
    "        print(dirs)\n",
    "        for m in dirs:\n",
    "            p = os.path.join(current_path, m)\n",
    "            print(p)\n",
    "            os.chdir(p)\n",
    "            r = os.popen('bash  invoke.sh').read()\n",
    "            print(r)\n",
    "deploy_ml()"
   ]
  },
  {
   "cell_type": "code",
   "execution_count": null,
   "id": "981840f4-98d7-4aad-8744-6142508392b6",
   "metadata": {
    "tags": []
   },
   "outputs": [],
   "source": [
    "\n",
    "def deploy_web():\n",
    "    dic = \"/home/pengshijie/bbserverlees/DIC/\"\n",
    "    path = os.path.join(\n",
    "        dic, \"WebServices/kubeless/python-code/\")\n",
    "    os.chdir(path)\n",
    "    for root, dirs, files in os.walk(path):\n",
    "        if len(dirs)<2:\n",
    "            continue\n",
    "        print(dirs)\n",
    "        for m in dirs:\n",
    "            os.chdir(os.path.join(path, m))\n",
    "            r= os.popen('bash  invoke.sh').read()\n",
    "            print(r)\n",
    "deploy_web()"
   ]
  },
  {
   "cell_type": "code",
   "execution_count": null,
   "id": "ae2ccba9-87d8-4395-88be-662b56e7aa08",
   "metadata": {},
   "outputs": [],
   "source": [
    "\n",
    "def deploy_stream():\n",
    "    dic = \"/home/pengshijie/bbserverlees/DIC/\"\n",
    "    os.chdir(dic)\n",
    "    current_path = os.getcwd()\n",
    "    shell_path = os.path.join(current_path, \"Stream/kubeless/\")\n",
    "    os.chdir(shell_path)\n",
    "    os.popen('bash  invoke.sh').read()\n",
    "\n",
    "\n",
    "def deploy_bigdata():\n",
    "    dic = \"/home/pengshijie/bbserverlees/DIC/\"\n",
    "    os.chdir(dic)\n",
    "    current_path = os.getcwd()\n",
    "    shell_path = os.path.join(current_path, \"BigData/kubeless/\")\n",
    "    os.chdir(shell_path)\n",
    "    r = os.popen('bash  invoke.sh').read()\n",
    "    print(r)\n"
   ]
  },
  {
   "cell_type": "code",
   "execution_count": null,
   "id": "706ebef7-8384-40be-badd-d307e78941c4",
   "metadata": {},
   "outputs": [],
   "source": [
    "deploy_bigdata()\n",
    "deploy_stream()\n"
   ]
  },
  {
   "cell_type": "code",
   "execution_count": 3,
   "id": "3f9576ec-5421-47bf-80b3-b67cb76444e0",
   "metadata": {},
   "outputs": [
    {
     "name": "stdout",
     "output_type": "stream",
     "text": [
      "NAME                            READY   STATUS    RESTARTS   AGE\n",
      "bigdata-545c8f5dbb-5gv2l        1/1     Running   0          12s\n",
      "bigdata-545c8f5dbb-69cgb        1/1     Running   0          27s\n",
      "bigdata-545c8f5dbb-6k7gm        1/1     Running   0          27s\n",
      "bigdata-545c8f5dbb-f2skj        1/1     Running   0          117s\n",
      "bigdata-545c8f5dbb-frdpl        1/1     Running   0          117s\n",
      "bigdata-545c8f5dbb-ltrjd        1/1     Running   0          117s\n",
      "bigdata-545c8f5dbb-q6mxk        1/1     Running   0          9m1s\n",
      "bigdata-545c8f5dbb-xf574        1/1     Running   0          117s\n",
      "cryptography-58b8fd8c55-5zl56   1/1     Running   0          2m1s\n",
      "cryptography-58b8fd8c55-7g47f   1/1     Running   0          2m1s\n",
      "cryptography-58b8fd8c55-jrbtq   1/1     Running   0          2m1s\n",
      "cryptography-58b8fd8c55-n8l2m   1/1     Running   0          2m1s\n",
      "cryptography-58b8fd8c55-rbtrj   1/1     Running   0          4m4s\n",
      "hash-python-6df5d94574-4h8nj    1/1     Running   0          2m1s\n",
      "hash-python-6df5d94574-5j2vj    1/1     Running   0          2m1s\n",
      "hash-python-6df5d94574-hckhk    1/1     Running   0          2m1s\n",
      "hash-python-6df5d94574-mjknq    1/1     Running   0          3m55s\n",
      "hash-python-6df5d94574-td9pb    1/1     Running   0          2m1s\n",
      "hello-python-8688dd4d5c-5hpdw   1/1     Running   0          3m41s\n",
      "hello-python-8688dd4d5c-75ms2   1/1     Running   0          2m1s\n",
      "hello-python-8688dd4d5c-hnbvl   1/1     Running   0          2m1s\n",
      "hello-python-8688dd4d5c-qxg2k   1/1     Running   0          2m1s\n",
      "hello-python-8688dd4d5c-sj8xd   1/1     Running   0          2m1s\n",
      "lstm-68b58d6f75-49ngk           1/1     Running   0          115s\n",
      "lstm-68b58d6f75-6tzb2           1/1     Running   0          8m44s\n",
      "lstm-68b58d6f75-7n8dd           1/1     Running   0          115s\n",
      "lstm-68b58d6f75-dkzpc           1/1     Running   0          115s\n",
      "lstm-68b58d6f75-hmt48           1/1     Running   0          115s\n",
      "md5-python-7849dbfcc8-k2gzb     1/1     Running   0          2m\n",
      "md5-python-7849dbfcc8-qk9jj     1/1     Running   0          2m\n",
      "md5-python-7849dbfcc8-sxcj2     1/1     Running   0          3m31s\n",
      "md5-python-7849dbfcc8-w98dh     1/1     Running   0          2m\n",
      "md5-python-7849dbfcc8-xkmn7     1/1     Running   0          2m\n",
      "mnist-56c8847945-2p7hf          1/1     Running   0          114s\n",
      "mnist-56c8847945-4f9th          1/1     Running   0          114s\n",
      "mnist-56c8847945-6thcx          1/1     Running   0          114s\n",
      "mnist-56c8847945-g9cpf          1/1     Running   0          114s\n",
      "mnist-56c8847945-jsllv          1/1     Running   0          8m13s\n",
      "mobilenet-65b6687c97-d7q8h      1/1     Running   0          113s\n",
      "mobilenet-65b6687c97-gznw2      1/1     Running   0          7m52s\n",
      "mobilenet-65b6687c97-j8k72      1/1     Running   0          113s\n",
      "mobilenet-65b6687c97-ltpm7      1/1     Running   0          113s\n",
      "mobilenet-65b6687c97-s8ls8      1/1     Running   0          113s\n",
      "resnet18-68b96f5b79-2qgcd       1/1     Running   0          111s\n",
      "resnet18-68b96f5b79-jp42n       1/1     Running   0          7m29s\n",
      "resnet18-68b96f5b79-kfxcz       1/1     Running   0          111s\n",
      "resnet18-68b96f5b79-n8bqx       1/1     Running   0          111s\n",
      "resnet18-68b96f5b79-wwqgv       1/1     Running   0          111s\n",
      "resnet34-58f9749b87-7xwp8       1/1     Running   0          110s\n",
      "resnet34-58f9749b87-d8wql       1/1     Running   0          110s\n",
      "resnet34-58f9749b87-fd5fk       1/1     Running   0          110s\n",
      "resnet34-58f9749b87-gqbs6       1/1     Running   0          110s\n",
      "resnet34-58f9749b87-qgwc6       1/1     Running   0          7m3s\n",
      "resnet50-84544c8ff9-75jsb       1/1     Running   0          109s\n",
      "resnet50-84544c8ff9-fvdbh       1/1     Running   0          6m30s\n",
      "resnet50-84544c8ff9-rlcv8       1/1     Running   0          109s\n",
      "resnet50-84544c8ff9-tkvk8       1/1     Running   0          109s\n",
      "resnet50-84544c8ff9-xdfws       1/1     Running   0          109s\n",
      "shufflenet-696fb4fb67-46gvp     1/1     Running   0          6m11s\n",
      "shufflenet-696fb4fb67-4c52g     1/1     Running   0          108s\n",
      "shufflenet-696fb4fb67-7m58t     1/1     Running   0          108s\n",
      "shufflenet-696fb4fb67-ht5tl     1/1     Running   0          108s\n",
      "shufflenet-696fb4fb67-xgsnd     1/1     Running   0          108s\n",
      "sort-python-6486bb76c6-48p2k    1/1     Running   0          3m21s\n",
      "sort-python-6486bb76c6-652hr    1/1     Running   0          119s\n",
      "sort-python-6486bb76c6-cclfk    1/1     Running   0          119s\n",
      "sort-python-6486bb76c6-hvfn8    1/1     Running   0          119s\n",
      "sort-python-6486bb76c6-pv8rv    1/1     Running   0          118s\n",
      "stream-6c9c8d5876-2t9vh         1/1     Running   0          25s\n",
      "stream-6c9c8d5876-6ldjk         1/1     Running   0          116s\n",
      "stream-6c9c8d5876-8k5np         1/1     Running   0          116s\n",
      "stream-6c9c8d5876-g46d4         1/1     Running   0          116s\n",
      "stream-6c9c8d5876-mbl5r         1/1     Running   0          25s\n",
      "stream-6c9c8d5876-pjtjk         1/1     Running   0          116s\n",
      "stream-6c9c8d5876-q7zsj         1/1     Running   0          5m32s\n",
      "vggnet11-7668d58958-gp2c9       1/1     Running   0          4m54s\n",
      "vggnet11-7668d58958-jnh7m       1/1     Running   0          106s\n",
      "vggnet11-7668d58958-qbvbc       1/1     Running   0          106s\n",
      "vggnet11-7668d58958-vj4d5       1/1     Running   0          107s\n",
      "vggnet11-7668d58958-z6z4m       1/1     Running   0          106s\n"
     ]
    },
    {
     "ename": "",
     "evalue": "",
     "output_type": "error",
     "traceback": [
      "\u001b[1;31mThe Kernel crashed while executing code in the the current cell or a previous cell. Please review the code in the cell(s) to identify a possible cause of the failure. Click <a href='https://aka.ms/vscodeJupyterKernelCrash'>here</a> for more info. View Jupyter <a href='command:jupyter.viewOutput'>log</a> for further details."
     ]
    }
   ],
   "source": [
    "!kubectl get pod -n kubeless"
   ]
  },
  {
   "cell_type": "code",
   "execution_count": 2,
   "id": "b8179b05-e5fe-4d13-b1f0-0a8e9f12d843",
   "metadata": {},
   "outputs": [
    {
     "name": "stderr",
     "output_type": "stream",
     "text": [
      "time=\"2022-09-15T08:14:52Z\" level=info msg=\"Adding autoscaling rule to the function...\"\n",
      "time=\"2022-09-15T08:14:52Z\" level=info msg=\"Autoscaling rule for hello-python submitted for deployment\"\n",
      "time=\"2022-09-15T08:14:52Z\" level=info msg=\"Adding autoscaling rule to the function...\"\n",
      "time=\"2022-09-15T08:14:52Z\" level=info msg=\"Autoscaling rule for hash-python submitted for deployment\"\n",
      "time=\"2022-09-15T08:14:52Z\" level=info msg=\"Adding autoscaling rule to the function...\"\n",
      "time=\"2022-09-15T08:14:52Z\" level=info msg=\"Autoscaling rule for cryptography submitted for deployment\"\n",
      "time=\"2022-09-15T08:14:52Z\" level=info msg=\"Adding autoscaling rule to the function...\"\n",
      "time=\"2022-09-15T08:14:52Z\" level=info msg=\"Autoscaling rule for md5-python submitted for deployment\"\n",
      "time=\"2022-09-15T08:14:52Z\" level=info msg=\"Adding autoscaling rule to the function...\"\n",
      "time=\"2022-09-15T08:14:52Z\" level=info msg=\"Autoscaling rule for sort-python submitted for deployment\"\n",
      "time=\"2022-09-15T08:14:52Z\" level=fatal msg=\"Function facerecognition-general is not found\"\n",
      "time=\"2022-09-15T08:14:52Z\" level=fatal msg=\"Function multinomialnb-general is not found\"\n",
      "time=\"2022-09-15T08:14:52Z\" level=fatal msg=\"Function passiveaggressiveclassifier-general is not found\"\n",
      "time=\"2022-09-15T08:14:52Z\" level=fatal msg=\"Function perceptron-general is not found\"\n",
      "time=\"2022-09-15T08:14:53Z\" level=fatal msg=\"Function randomforestregressor-general is not found\"\n",
      "time=\"2022-09-15T08:14:53Z\" level=fatal msg=\"Function sgdclassifier-general is not found\"\n",
      "time=\"2022-09-15T08:14:53Z\" level=fatal msg=\"Function sgdregressor-general is not found\"\n",
      "time=\"2022-09-15T08:14:53Z\" level=fatal msg=\"Function svr-general is not found\"\n",
      "time=\"2022-09-15T08:14:53Z\" level=info msg=\"Adding autoscaling rule to the function...\"\n",
      "time=\"2022-09-15T08:14:53Z\" level=info msg=\"Autoscaling rule for bigdata submitted for deployment\"\n",
      "time=\"2022-09-15T08:14:53Z\" level=info msg=\"Adding autoscaling rule to the function...\"\n",
      "time=\"2022-09-15T08:14:53Z\" level=info msg=\"Autoscaling rule for stream submitted for deployment\"\n",
      "time=\"2022-09-15T08:14:53Z\" level=info msg=\"Adding autoscaling rule to the function...\"\n",
      "time=\"2022-09-15T08:14:53Z\" level=info msg=\"Autoscaling rule for lstm submitted for deployment\"\n",
      "time=\"2022-09-15T08:14:53Z\" level=info msg=\"Adding autoscaling rule to the function...\"\n",
      "time=\"2022-09-15T08:14:53Z\" level=info msg=\"Autoscaling rule for mnist submitted for deployment\"\n",
      "time=\"2022-09-15T08:14:53Z\" level=fatal msg=\"Function mnist-cloud is not found\"\n",
      "time=\"2022-09-15T08:14:53Z\" level=info msg=\"Adding autoscaling rule to the function...\"\n",
      "time=\"2022-09-15T08:14:53Z\" level=info msg=\"Autoscaling rule for mobilenet submitted for deployment\"\n",
      "time=\"2022-09-15T08:14:53Z\" level=info msg=\"Adding autoscaling rule to the function...\"\n",
      "time=\"2022-09-15T08:14:53Z\" level=info msg=\"Autoscaling rule for resnet18 submitted for deployment\"\n",
      "time=\"2022-09-15T08:14:53Z\" level=fatal msg=\"Function resnet18-cloud is not found\"\n",
      "time=\"2022-09-15T08:14:53Z\" level=info msg=\"Adding autoscaling rule to the function...\"\n",
      "time=\"2022-09-15T08:14:53Z\" level=info msg=\"Autoscaling rule for resnet34 submitted for deployment\"\n",
      "time=\"2022-09-15T08:14:53Z\" level=fatal msg=\"Function resnet34-cloud is not found\"\n",
      "time=\"2022-09-15T08:14:53Z\" level=info msg=\"Adding autoscaling rule to the function...\"\n",
      "time=\"2022-09-15T08:14:53Z\" level=info msg=\"Autoscaling rule for resnet50 submitted for deployment\"\n",
      "time=\"2022-09-15T08:14:53Z\" level=fatal msg=\"Function resnet50-cloud is not found\"\n",
      "time=\"2022-09-15T08:14:54Z\" level=info msg=\"Adding autoscaling rule to the function...\"\n",
      "time=\"2022-09-15T08:14:54Z\" level=info msg=\"Autoscaling rule for shufflenet submitted for deployment\"\n",
      "time=\"2022-09-15T08:14:54Z\" level=fatal msg=\"Function shufflenet-cloud is not found\"\n",
      "time=\"2022-09-15T08:14:54Z\" level=info msg=\"Adding autoscaling rule to the function...\"\n",
      "time=\"2022-09-15T08:14:54Z\" level=info msg=\"Autoscaling rule for vggnet11 submitted for deployment\"\n",
      "time=\"2022-09-15T08:14:54Z\" level=fatal msg=\"Function vggnet11-cloud is not found\"\n"
     ]
    }
   ],
   "source": [
    "action_names = ['hello-python', 'hash-python', 'cryptography', 'md5-python', 'sort-python', 'facerecognition-general', 'multinomialnb-general',\n",
    "                'passiveaggressiveclassifier-general', 'perceptron-general', 'randomforestregressor-general', 'sgdclassifier-general', 'sgdregressor-general', \n",
    "                'svr-general', 'bigdata', 'stream','lstm','mnist','mnist-cloud','mobilenet','resnet18','resnet18-cloud','resnet34','resnet34-cloud','resnet50',\n",
    "                'resnet50-cloud','shufflenet','shufflenet-cloud','vggnet11','vggnet11-cloud']\n",
    "for i in action_names:\n",
    "    # cmd = 'kubeless autoscale create --max 100 --metric=cpu --value=75 -n kubeless  {function}'\n",
    "    cmd = 'kubeless autoscale create --min 5 --max 100 --metric cpu --value 50 -n kubeless  {function}'\n",
    "    os.system(cmd.format(function=i))\n",
    "    "
   ]
  },
  {
   "cell_type": "code",
   "execution_count": 14,
   "id": "5a018ce9",
   "metadata": {},
   "outputs": [
    {
     "name": "stderr",
     "output_type": "stream",
     "text": [
      "time=\"2022-08-26T17:13:13Z\" level=info msg=\"Removing autoscaling rule from the function...\"\n",
      "time=\"2022-08-26T17:13:13Z\" level=info msg=\"Remove Autoscaling rule from hello-python successfully\"\n",
      "time=\"2022-08-26T17:13:13Z\" level=info msg=\"Removing autoscaling rule from the function...\"\n",
      "time=\"2022-08-26T17:13:13Z\" level=info msg=\"Remove Autoscaling rule from hash-python successfully\"\n",
      "time=\"2022-08-26T17:13:13Z\" level=fatal msg=\"Function cryptography-python is not found\"\n",
      "time=\"2022-08-26T17:13:13Z\" level=info msg=\"Removing autoscaling rule from the function...\"\n",
      "time=\"2022-08-26T17:13:13Z\" level=info msg=\"Remove Autoscaling rule from md5-python successfully\"\n",
      "time=\"2022-08-26T17:13:13Z\" level=info msg=\"Removing autoscaling rule from the function...\"\n",
      "time=\"2022-08-26T17:13:13Z\" level=info msg=\"Remove Autoscaling rule from sort-python successfully\"\n",
      "time=\"2022-08-26T17:13:14Z\" level=fatal msg=\"Function facerecognition-general is not found\"\n",
      "time=\"2022-08-26T17:13:14Z\" level=fatal msg=\"Function multinomialnb-general is not found\"\n",
      "time=\"2022-08-26T17:13:14Z\" level=fatal msg=\"Function passiveaggressiveclassifier-general is not found\"\n",
      "time=\"2022-08-26T17:13:14Z\" level=fatal msg=\"Function perceptron-general is not found\"\n",
      "time=\"2022-08-26T17:13:14Z\" level=fatal msg=\"Function randomforestregressor-general is not found\"\n",
      "time=\"2022-08-26T17:13:14Z\" level=fatal msg=\"Function sgdclassifier-general is not found\"\n",
      "time=\"2022-08-26T17:13:14Z\" level=fatal msg=\"Function sgdregressor-general is not found\"\n",
      "time=\"2022-08-26T17:13:14Z\" level=fatal msg=\"Function svr-general is not found\"\n",
      "time=\"2022-08-26T17:13:15Z\" level=info msg=\"Removing autoscaling rule from the function...\"\n",
      "time=\"2022-08-26T17:13:15Z\" level=info msg=\"Remove Autoscaling rule from bigdata successfully\"\n",
      "time=\"2022-08-26T17:13:15Z\" level=info msg=\"Removing autoscaling rule from the function...\"\n",
      "time=\"2022-08-26T17:13:15Z\" level=info msg=\"Remove Autoscaling rule from stream successfully\"\n",
      "time=\"2022-08-26T17:13:15Z\" level=info msg=\"Removing autoscaling rule from the function...\"\n",
      "time=\"2022-08-26T17:13:15Z\" level=info msg=\"Remove Autoscaling rule from lstm successfully\"\n",
      "time=\"2022-08-26T17:13:15Z\" level=info msg=\"Removing autoscaling rule from the function...\"\n",
      "time=\"2022-08-26T17:13:15Z\" level=info msg=\"Remove Autoscaling rule from mnist successfully\"\n",
      "time=\"2022-08-26T17:13:15Z\" level=fatal msg=\"Function mnist-cloud is not found\"\n",
      "time=\"2022-08-26T17:13:15Z\" level=info msg=\"Removing autoscaling rule from the function...\"\n",
      "time=\"2022-08-26T17:13:15Z\" level=info msg=\"Remove Autoscaling rule from mobilenet successfully\"\n",
      "time=\"2022-08-26T17:13:16Z\" level=info msg=\"Removing autoscaling rule from the function...\"\n",
      "time=\"2022-08-26T17:13:16Z\" level=info msg=\"Remove Autoscaling rule from resnet18 successfully\"\n",
      "time=\"2022-08-26T17:13:16Z\" level=fatal msg=\"Function resnet18-cloud is not found\"\n",
      "time=\"2022-08-26T17:13:16Z\" level=info msg=\"Removing autoscaling rule from the function...\"\n",
      "time=\"2022-08-26T17:13:16Z\" level=info msg=\"Remove Autoscaling rule from resnet34 successfully\"\n",
      "time=\"2022-08-26T17:13:16Z\" level=fatal msg=\"Function resnet34-cloud is not found\"\n",
      "time=\"2022-08-26T17:13:16Z\" level=info msg=\"Removing autoscaling rule from the function...\"\n",
      "time=\"2022-08-26T17:13:16Z\" level=info msg=\"Remove Autoscaling rule from resnet50 successfully\"\n",
      "time=\"2022-08-26T17:13:16Z\" level=fatal msg=\"Function resnet50-cloud is not found\"\n",
      "time=\"2022-08-26T17:13:16Z\" level=info msg=\"Removing autoscaling rule from the function...\"\n",
      "time=\"2022-08-26T17:13:16Z\" level=info msg=\"Remove Autoscaling rule from shufflenet successfully\"\n",
      "time=\"2022-08-26T17:13:16Z\" level=fatal msg=\"Function shufflenet-cloud is not found\"\n",
      "time=\"2022-08-26T17:13:17Z\" level=info msg=\"Removing autoscaling rule from the function...\"\n",
      "time=\"2022-08-26T17:13:17Z\" level=info msg=\"Remove Autoscaling rule from vggnet11 successfully\"\n",
      "time=\"2022-08-26T17:13:17Z\" level=fatal msg=\"Function vggnet11-cloud is not found\"\n"
     ]
    }
   ],
   "source": [
    "action_names = ['hello-python', 'hash-python', 'cryptography', 'md5-python', 'sort-python', 'facerecognition-general', 'multinomialnb-general',\n",
    "                'passiveaggressiveclassifier-general', 'perceptron-general', 'randomforestregressor-general', 'sgdclassifier-general', 'sgdregressor-general', \n",
    "                'svr-general', 'bigdata', 'stream','lstm','mnist','mnist-cloud','mobilenet','resnet18','resnet18-cloud','resnet34','resnet34-cloud','resnet50',\n",
    "                'resnet50-cloud','shufflenet','shufflenet-cloud','vggnet11','vggnet11-cloud']\n",
    "for i in action_names:\n",
    "    cmd = 'kubeless autoscale delete -n kubeless  {function}'\n",
    "    os.system(cmd.format(function=i))"
   ]
  },
  {
   "cell_type": "code",
   "execution_count": 11,
   "id": "5300137b",
   "metadata": {},
   "outputs": [
    {
     "name": "stderr",
     "output_type": "stream",
     "text": [
      "time=\"2022-08-26T17:07:20Z\" level=fatal msg=\"functions.kubeless.io \\\"lstm\\\" not found\"\n",
      "time=\"2022-08-26T17:07:20Z\" level=fatal msg=\"functions.kubeless.io \\\"mnist\\\" not found\"\n",
      "time=\"2022-08-26T17:07:21Z\" level=fatal msg=\"functions.kubeless.io \\\"mobilenet\\\" not found\"\n",
      "time=\"2022-08-26T17:07:21Z\" level=fatal msg=\"functions.kubeless.io \\\"resnet18\\\" not found\"\n",
      "time=\"2022-08-26T17:07:21Z\" level=fatal msg=\"functions.kubeless.io \\\"resnet34\\\" not found\"\n",
      "time=\"2022-08-26T17:07:21Z\" level=fatal msg=\"functions.kubeless.io \\\"resnet50\\\" not found\"\n",
      "time=\"2022-08-26T17:07:21Z\" level=fatal msg=\"functions.kubeless.io \\\"shufflenet\\\" not found\"\n",
      "time=\"2022-08-26T17:07:21Z\" level=fatal msg=\"functions.kubeless.io \\\"vggnet11\\\" not found\"\n"
     ]
    }
   ],
   "source": [
    "action_names = ['lstm','mnist','mobilenet','resnet18','resnet34','resnet50','shufflenet','vggnet11']\n",
    "for i in action_names:\n",
    "    cmd = 'kubeless function delete {function} -n kubeless'\n",
    "    os.system(cmd.format(function=i))"
   ]
  },
  {
   "cell_type": "code",
   "execution_count": null,
   "id": "f9972a48",
   "metadata": {},
   "outputs": [],
   "source": [
    "!kubeless function delete bigdata -n kubeless"
   ]
  },
  {
   "cell_type": "code",
   "execution_count": null,
   "id": "8667f08f",
   "metadata": {},
   "outputs": [],
   "source": []
  }
 ],
 "metadata": {
  "kernelspec": {
   "display_name": "Python 3.8.5 ('base')",
   "language": "python",
   "name": "python3"
  },
  "language_info": {
   "codemirror_mode": {
    "name": "ipython",
    "version": 3
   },
   "file_extension": ".py",
   "mimetype": "text/x-python",
   "name": "python",
   "nbconvert_exporter": "python",
   "pygments_lexer": "ipython3",
   "version": "3.10.6"
  },
  "vscode": {
   "interpreter": {
    "hash": "2f394aca7ca06fed1e6064aef884364492d7cdda3614a461e02e6407fc40ba69"
   }
  }
 },
 "nbformat": 4,
 "nbformat_minor": 5
}
