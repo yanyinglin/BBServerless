{
    "cells": [
        {
            "cell_type": "code",
            "execution_count": 5,
            "id": "6332880c",
            "metadata": {},
            "outputs": [],
            "source": [
                "import os"
            ]
        },
        {
            "cell_type": "code",
            "execution_count": 6,
            "id": "6b4cd8d8",
            "metadata": {},
            "outputs": [
                {
                    "name": "stdout",
                    "output_type": "stream",
                    "text": [
                        "/home/pengshijie/bbserverlees/DIC/MachineLearning\n",
                        "ok: updated action sgdclassifier-general\n",
                        "\n",
                        "ok: updated action facerecognition-general\n",
                        "\n",
                        "ok: updated action multinomialnb-general\n",
                        "\n",
                        "ok: updated action randomforestregressor-general\n",
                        "\n",
                        "ok: updated action perceptron-general\n",
                        "\n",
                        "ok: updated action svr-general\n",
                        "\n",
                        "ok: updated action passiveaggressiveclassifier-general\n",
                        "\n",
                        "ok: updated action sgdregressor-general\n",
                        "\n"
                    ]
                }
            ],
            "source": [
                "def update_ml():\n",
                "    os.chdir('/home/pengshijie/bbserverlees/DIC/MachineLearning/')\n",
                "    current_path = os.getcwd()\n",
                "    print(current_path)\n",
                "    path = os.path.join(current_path, \"Inference-of-ml-openwhisk\")\n",
                "    for root, dirs, files in os.walk(path, topdown=False):\n",
                "        for m in dirs:\n",
                "            os.chdir(os.path.join(path, m))\n",
                "            shell = os.path.join(path, m, 'action_update.sh')\n",
                "            # replace create to update while init\n",
                "            # with open(shell, 'r') as f:\n",
                "            #     content = f.read()\n",
                "            #     content = content.replace('update', 'create')\n",
                "            # r = os.popen(content).read()\n",
                "            r = os.popen('bash '+shell).read()\n",
                "            print(r)\n",
                "            \n",
                "update_ml()"
            ]
        },
        {
            "cell_type": "code",
            "execution_count": 7,
            "id": "181d8e82",
            "metadata": {},
            "outputs": [
                {
                    "name": "stdout",
                    "output_type": "stream",
                    "text": [
                        "/home/pengshijie/bbserverlees/DIC/Stream/openwhisk\n",
                        "ok: updated action stream\n",
                        "\n"
                    ]
                }
            ],
            "source": [
                "def update_stream():\n",
                "    os.chdir('/home/pengshijie/bbserverlees/DIC/Stream')\n",
                "    current_path = os.getcwd()\n",
                "    \n",
                "    path = os.path.join(current_path, \"openwhisk\")\n",
                "    os.chdir(path)\n",
                "    print(os.getcwd())\n",
                "    shell = 'action_update.sh'\n",
                "    r = os.popen('bash '+shell).read()\n",
                "    print(r)\n",
                "\n",
                "update_stream()"
            ]
        },
        {
            "cell_type": "code",
            "execution_count": 8,
            "id": "ebd2144d",
            "metadata": {},
            "outputs": [],
            "source": [
                "def update_bigdata():\n",
                "    os.chdir('/home/pengshijie/bbserverlees/DIC/BigData')\n",
                "    current_path = os.getcwd()\n",
                "    \n",
                "    path = os.path.join(current_path, \"openwhisk\")\n",
                "    os.chdir(path)\n",
                "    print(os.getcwd())\n",
                "    shell = 'action-update.sh'\n",
                "    r = os.popen('bash '+shell).read()\n",
                "    print(r)"
            ]
        },
        {
            "cell_type": "code",
            "execution_count": 9,
            "id": "c8914a54",
            "metadata": {},
            "outputs": [
                {
                    "name": "stdout",
                    "output_type": "stream",
                    "text": [
                        "/home/pengshijie/bbserverlees/DIC/BigData/openwhisk\n",
                        "ok: updated action bigdata\n",
                        "\n"
                    ]
                }
            ],
            "source": [
                "update_bigdata()"
            ]
        },
        {
            "cell_type": "code",
            "execution_count": 10,
            "id": "8e93ac74",
            "metadata": {},
            "outputs": [],
            "source": [
                "def update_web():\n",
                "    os.chdir('/home/pengshijie/bbserverlees/DIC/WebServices/openwhisk/')\n",
                "    current_path = os.getcwd()\n",
                "    print(current_path)\n",
                "    path = os.path.join(current_path, \"python-code\")\n",
                "    for root, dirs, files in os.walk(path, topdown=False):\n",
                "        for m in dirs:\n",
                "            if m.find('ipynb')!=-1:\n",
                "                continue\n",
                "            os.chdir(os.path.join(path, m))\n",
                "            shell = os.path.join(path, m, 'action-update.sh')\n",
                "            r = os.popen('bash '+shell).read()\n",
                "            print(r)"
            ]
        },
        {
            "cell_type": "code",
            "execution_count": 11,
            "id": "5dd77ab5",
            "metadata": {},
            "outputs": [
                {
                    "name": "stdout",
                    "output_type": "stream",
                    "text": [
                        "/home/pengshijie/bbserverlees/DIC/WebServices/openwhisk\n",
                        "ok: updated action cryptography-python\n",
                        "\n",
                        "ok: updated action hash-python\n",
                        "\n",
                        "ok: updated action md5-python\n",
                        "\n",
                        "ok: updated action sort-python\n",
                        "\n",
                        "updating: __main__.py (deflated 32%)\n",
                        "updating: action-update.sh (deflated 16%)\n",
                        "updating: helper.py (deflated 35%)\n",
                        "updating: stranger.zip (stored 0%)\n",
                        "ok: updated action hello-python\n",
                        "\n"
                    ]
                }
            ],
            "source": [
                "update_web()"
            ]
        },
        {
            "cell_type": "code",
            "execution_count": 12,
            "id": "7b22b56b",
            "metadata": {},
            "outputs": [
                {
                    "name": "stdout",
                    "output_type": "stream",
                    "text": [
                        "\u001b[1mactions\n",
                        "\u001b[0m/guest/hello-python                                                    private python:3\n",
                        "/guest/sort-python                                                     private python:3\n",
                        "/guest/md5-python                                                      private python:3\n",
                        "/guest/hash-python                                                     private python:3\n",
                        "/guest/cryptography-python                                             private blackbox\n",
                        "/guest/bigdata                                                         private python:3\n",
                        "/guest/stream                                                          private python:3\n",
                        "/guest/sgdregressor-general                                            private blackbox\n",
                        "/guest/passiveaggressiveclassifier-general                             private blackbox\n",
                        "/guest/svr-general                                                     private blackbox\n",
                        "/guest/perceptron-general                                              private blackbox\n",
                        "/guest/randomforestregressor-general                                   private blackbox\n",
                        "/guest/multinomialnb-general                                           private blackbox\n",
                        "/guest/facerecognition-general                                         private blackbox\n",
                        "/guest/sgdclassifier-general                                           private blackbox\n"
                    ]
                }
            ],
            "source": [
                "!wsk -i action list "
            ]
        },
        {
            "cell_type": "code",
            "execution_count": 1,
            "id": "bf05b326",
            "metadata": {},
            "outputs": [
                {
                    "name": "stdout",
                    "output_type": "stream",
                    "text": [
                        "{\n",
                        "    \"startTime\": 1649148497.233677,\n",
                        "    \"token\": {\n",
                        "        \"greeting\": \"Hello from helper.py, stranger!\"\n",
                        "    }\n",
                        "}\n",
                        "{\n",
                        "    \"startTime\": 1649148502.631776,\n",
                        "    \"token\": \"-9117421364500798564\"\n",
                        "}\n",
                        "{\n",
                        "    \"startTime\": 1649148512.3030477,\n",
                        "    \"token\": \"b'gAAAAABiTAJgqijDqhe6EVPAbN0p8EKgdkHGl--lUtIGesKo6oRG9snELBbKyrjMCCVC6ieI9c6flQ1xKwpaYBRaDfAKPDjJZA=='\"\n",
                        "}\n",
                        "{\n",
                        "    \"startTime\": 1649148517.773107,\n",
                        "    \"token\": \"04b463d267c4f68ead02c3bdd44fe64c\"\n",
                        "}\n",
                        "{\n",
                        "    \"startTime\": 1649148523.13847,\n",
                        "    \"token\": \"[0, 1, 1, 2, 2, 3, 4, 4, 5, 5, 6, 6, 7, 7, 7, 8, 8, 9, 10, 20, 34, 88, 2232]\"\n",
                        "}\n",
                        "{\n",
                        "    \"startTime\": 1649148529.0932364,\n",
                        "    \"token\": \"inference finished\"\n",
                        "}\n",
                        "{\n",
                        "    \"startTime\": 1649148536.839827,\n",
                        "    \"token\": \"inference finished\"\n",
                        "}\n",
                        "{\n",
                        "    \"startTime\": 1649148542.9266455,\n",
                        "    \"token\": \"inference finished\"\n",
                        "}\n",
                        "{\n",
                        "    \"startTime\": 1649148548.9839253,\n",
                        "    \"token\": \"inference finished\"\n",
                        "}\n",
                        "{\n",
                        "    \"startTime\": 1649148556.052948,\n",
                        "    \"token\": \"inference finished\"\n",
                        "}\n",
                        "{\n",
                        "    \"startTime\": 1649148563.9275353,\n",
                        "    \"token\": \"inference finished\"\n",
                        "}\n",
                        "{\n",
                        "    \"startTime\": 1649148570.0404458,\n",
                        "    \"token\": \"inference finished\"\n",
                        "}\n",
                        "{\n",
                        "    \"startTime\": 1649148576.2331955,\n",
                        "    \"token\": \"inference finished\"\n",
                        "}\n",
                        "{\n",
                        "    \"startTime\": 1649148586.1928227,\n",
                        "    \"token\": \"inference finished\"\n",
                        "}\n",
                        "{\n",
                        "    \"startTime\": 1649148602.5828831,\n",
                        "    \"token\": \"inference finished\"\n",
                        "}\n"
                    ]
                }
            ],
            "source": [
                "action_names = ['hello-python', 'hash-python', 'cryptography-python', 'md5-python', 'sort-python', 'facerecognition-general', 'multinomialnb-general',\n",
                "                'passiveaggressiveclassifier-general', 'perceptron-general', 'randomforestregressor-general', 'sgdclassifier-general', 'sgdregressor-general', 'svr-general', 'bigdata', 'stream']\n",
                "# action_names = ['cryptography-python']\n",
                "for i in action_names:\n",
                "    cmd = 'wsk -i action invoke {function} --result'\n",
                "    os.system(cmd.format(function=i))"
            ]
        },
        {
            "cell_type": "code",
            "execution_count": 4,
            "id": "6378f022",
            "metadata": {},
            "outputs": [
                {
                    "name": "stderr",
                    "output_type": "stream",
                    "text": [
                        "error: Unable to delete action 'hello-python': Resource by this name exists but is not in this collection. (code cIFp7VsTU0e1IXx9G7OPezWpXV02JEcb)\n",
                        "Run 'wsk --help' for usage.\n",
                        "error: Unable to delete action 'hash-python': Resource by this name exists but is not in this collection. (code uG8OmV9YAJfFqkhm0g3Wg5X5RqvDbbjL)\n",
                        "Run 'wsk --help' for usage.\n",
                        "error: Unable to delete action 'cryptography-python': Resource by this name exists but is not in this collection. (code tL3SWtcz1oiwuMFVZG4KntB2WZAdOX8J)\n",
                        "Run 'wsk --help' for usage.\n",
                        "error: Unable to delete action 'md5-python': Resource by this name exists but is not in this collection. (code n6zxCq3BEOXUNQciSAKW7G8gzBEVxn5L)\n",
                        "Run 'wsk --help' for usage.\n",
                        "error: Unable to delete action 'sort-python': Resource by this name exists but is not in this collection. (code 6yCQ0UyKETAozTg0ZYutf7qSn4baCLyW)\n",
                        "Run 'wsk --help' for usage.\n",
                        "error: Unable to delete action 'facerecognition-general': Resource by this name exists but is not in this collection. (code 913HfwtPNXmf5ttatY0WP6yypnlphj7B)\n",
                        "Run 'wsk --help' for usage.\n",
                        "error: Unable to delete action 'multinomialnb-general': Resource by this name exists but is not in this collection. (code LS1vMJrtAJh2KyoGpnX6NjS2inKTCDdW)\n",
                        "Run 'wsk --help' for usage.\n",
                        "error: Unable to delete action 'passiveaggressiveclassifier-general': Resource by this name exists but is not in this collection. (code uLGIdiZ8CCFtRd3eg8MoBjwUlcVpnwQz)\n",
                        "Run 'wsk --help' for usage.\n",
                        "error: Unable to delete action 'perceptron-general': Resource by this name exists but is not in this collection. (code 8TLUsMIVeyQG4tcoln0a90R4YGdU914w)\n",
                        "Run 'wsk --help' for usage.\n",
                        "error: Unable to delete action 'randomforestregressor-general': Resource by this name exists but is not in this collection. (code 3xLU08SVrctcA2LQDczt8WNBsG5M8umV)\n",
                        "Run 'wsk --help' for usage.\n",
                        "error: Unable to delete action 'sgdclassifier-general': Resource by this name exists but is not in this collection. (code A7DLtbbG11XY5Wfqlkmn0AM96vFmG3MP)\n",
                        "Run 'wsk --help' for usage.\n",
                        "error: Unable to delete action 'sgdregressor-general': Resource by this name exists but is not in this collection. (code 0JnAbgXCzXDvtciOHaFlR50b09cqFPEx)\n",
                        "Run 'wsk --help' for usage.\n",
                        "error: Unable to delete action 'svr-general': Resource by this name exists but is not in this collection. (code tobiMCO1WiNwQuaz8tlVpNInwZVnV1PT)\n",
                        "Run 'wsk --help' for usage.\n",
                        "error: Unable to delete action 'bigdata': Resource by this name exists but is not in this collection. (code njXvsZzrLLi8b6q25LzcIA8KT4S9JVVA)\n",
                        "Run 'wsk --help' for usage.\n",
                        "error: Unable to delete action 'stream': Resource by this name exists but is not in this collection. (code yqUdtOSsjLf2IzaJYKnWarq2Xw6N5duv)\n",
                        "Run 'wsk --help' for usage.\n"
                    ]
                }
            ],
            "source": [
                "# action_names = ['hello-python', 'hash-python', 'cryptography-python', 'md5-python', 'sort-python', 'facerecognition-general', 'multinomialnb-general',\n",
                "#                 'passiveaggressiveclassifier-general', 'perceptron-general', 'randomforestregressor-general', 'sgdclassifier-general', 'sgdregressor-general', 'svr-general', 'bigdata', 'stream']\n",
                "# # action_names = ['cryptography-python']\n",
                "# for i in action_names:\n",
                "#     cmd = 'wsk -i action delete {function}'\n",
                "#     os.system(cmd.format(function=i))"
            ]
        },
        {
            "cell_type": "code",
            "execution_count": 2,
            "id": "562333b2",
            "metadata": {},
            "outputs": [
                {
                    "name": "stdout",
                    "output_type": "stream",
                    "text": [
                        "NAME                                                   READY   STATUS      RESTARTS   AGE\n",
                        "openwhisk-alarmprovider-55ff7b5979-zsd95               1/1     Running     0          31h\n",
                        "openwhisk-apigateway-767688c8b5-qx6k9                  1/1     Running     0          31h\n",
                        "openwhisk-controller-0                                 1/1     Running     0          28h\n",
                        "openwhisk-couchdb-6c77f6446b-rtzq6                     1/1     Running     0          31h\n",
                        "openwhisk-gen-certs-ndkgv                              0/1     Completed   0          31h\n",
                        "openwhisk-init-couchdb-z8f77                           0/1     Completed   0          31h\n",
                        "openwhisk-install-packages-cnlbz                       0/1     Error       0          28h\n",
                        "openwhisk-install-packages-qgjmf                       0/1     Error       0          28h\n",
                        "openwhisk-install-packages-r2s9b                       0/1     Error       0          31h\n",
                        "openwhisk-invoker-0                                    1/1     Running     0          28h\n",
                        "openwhisk-kafka-0                                      1/1     Running     0          31h\n",
                        "openwhisk-kafkaprovider-6bffd8bbf5-8nrzm               1/1     Running     0          31h\n",
                        "openwhisk-nginx-5c45d466fb-gcwzc                       1/1     Running     0          31h\n",
                        "openwhisk-redis-799cc9b4cd-99ncs                       1/1     Running     0          31h\n",
                        "openwhisk-wskadmin                                     1/1     Running     1          31h\n",
                        "openwhisk-zookeeper-0                                  1/1     Running     0          31h\n",
                        "wskopenwhisk-invoker-00-1-prewarm-nodejs10             1/1     Running     0          28h\n",
                        "wskopenwhisk-invoker-00-2-prewarm-nodejs10             1/1     Running     0          28h\n",
                        "wskopenwhisk-invoker-00-384-guest-hellopython          1/1     Running     0          12m\n",
                        "wskopenwhisk-invoker-00-385-guest-hashpython           1/1     Running     0          12m\n",
                        "wskopenwhisk-invoker-00-396-guest-svrgeneral           1/1     Running     0          10m\n",
                        "wskopenwhisk-invoker-00-397-guest-bigdata              1/1     Running     0          9m54s\n",
                        "wskopenwhisk-invoker-00-398-guest-stream               1/1     Running     0          9m38s\n",
                        "wskopenwhisk-invoker-00-400-guest-cryptographypython   1/1     Running     0          33s\n"
                    ]
                }
            ],
            "source": [
                "!kubectl get pod -n openwhisk"
            ]
        },
        {
            "cell_type": "code",
            "execution_count": 20,
            "id": "a695c892",
            "metadata": {},
            "outputs": [
                {
                    "name": "stdout",
                    "output_type": "stream",
                    "text": [
                        "[2022-03-24T08:18:05.639Z] [INFO] Slf4jLogger started\n",
                        "[2022-03-24T08:18:06.305Z] [INFO] [#tid_sid_unknown] [Config] environment set value for whisk.api.host.name\n",
                        "[2022-03-24T08:18:06.312Z] [INFO] [#tid_sid_unknown] [Config] environment set value for whisk.api.host.proto\n",
                        "[2022-03-24T08:18:06.313Z] [INFO] [#tid_sid_unknown] [Config] environment set value for whisk.api.host.port\n",
                        "[2022-03-24T08:18:06.313Z] [INFO] [#tid_sid_unknown] [Config] environment set value for zookeeper.hosts\n",
                        "[2022-03-24T08:18:06.313Z] [INFO] [#tid_sid_unknown] [Config] environment set value for runtimes.manifest\n",
                        "[2022-03-24T08:18:06.313Z] [INFO] [#tid_sid_unknown] [Config] environment set value for kafka.hosts\n",
                        "[2022-03-24T08:18:06.313Z] [INFO] [#tid_sid_unknown] [Config] environment set value for port\n",
                        "[2022-03-24T08:18:06.539Z] [INFO] [#tid_sid_unknown] [Invoker] Command line arguments parsed to yield CmdLineArgs(Some(openwhisk-invoker-0),None,None)\n",
                        "[2022-03-24T08:18:06.540Z] [INFO] [#tid_sid_unknown] [InstanceIdAssigner] invokerReg: creating zkClient to openwhisk-zookeeper-0.openwhisk-zookeeper.openwhisk.svc.cluster.local:2181\n",
                        "[2022-03-24T08:18:06.598Z] [INFO] Running in ZooKeeper 3.4.x compatibility mode\n",
                        "[2022-03-24T08:18:06.620Z] [INFO] Starting\n",
                        "[2022-03-24T08:18:06.627Z] [INFO] Client environment:zookeeper.version=3.4.11-37e277162d567b55a07d1755f0b31c32e93c01a0, built on 11/01/2017 18:06 GMT\n",
                        "[2022-03-24T08:18:06.627Z] [INFO] Client environment:host.name=openwhisk-invoker-0.openwhisk-invoker.openwhisk.svc.cluster.local\n",
                        "[2022-03-24T08:18:06.627Z] [INFO] Client environment:java.version=11.0.8\n",
                        "[2022-03-24T08:18:06.627Z] [INFO] Client environment:java.vendor=AdoptOpenJDK\n",
                        "[2022-03-24T08:18:06.628Z] [INFO] Client environment:java.home=/opt/java/openjdk\n",
                        "[2022-03-24T08:18:06.628Z] [INFO] Client environment:java.class.path=/invoker/classes:/invoker/lib/openwhisk-invoker-1.0.0-SNAPSHOT.jar:/invoker/lib/openwhisk-common-1.0.0-SNAPSHOT.jar:/invoker/lib/pureconfig_2.12-0.11.1.jar:/invoker/lib/mesos-actor-0.0.17.jar:/invoker/lib/akka-management-cluster-bootstrap_2.12-0.10.0.jar:/invoker/lib/akka-discovery-marathon-api_2.12-0.10.0.jar:/invoker/lib/akka-management_2.12-0.10.0.jar:/invoker/lib/akka-http-spray-json_2.12-10.1.11.jar:/invoker/lib/spray-json_2.12-1.3.5.jar:/invoker/lib/akka-stream-alpakka-file_2.12-1.1.2.jar:/invoker/lib/akka-stream-alpakka-s3_2.12-1.1.2.jar:/invoker/lib/akka-stream-alpakka-simple-codecs_2.12-0.9.jar:/invoker/lib/akka-cluster-metrics_2.12-2.5.26.jar:/invoker/lib/akka-cluster-tools_2.12-2.5.26.jar:/invoker/lib/akka-distributed-data_2.12-2.5.26.jar:/invoker/lib/akka-cluster_2.12-2.5.26.jar:/invoker/lib/akka-remote_2.12-2.5.26.jar:/invoker/lib/akka-stream_2.12-2.5.26.jar:/invoker/lib/akka-slf4j_2.12-2.5.26.jar:/invoker/lib/akka-discovery_2.12-0.10.0.jar:/invoker/lib/akka-coordination_2.12-2.5.26.jar:/invoker/lib/akka-actor_2.12-2.5.26.jar:/invoker/lib/akka-http-xml_2.12-10.1.11.jar:/invoker/lib/akka-http_2.12-10.1.11.jar:/invoker/lib/akka-http-core_2.12-10.1.11.jar:/invoker/lib/kamon-statsd_2.12-2.0.0.jar:/invoker/lib/kamon-system-metrics_2.12-2.0.1.jar:/invoker/lib/kamon-prometheus_2.12-2.0.1.jar:/invoker/lib/kamon-datadog_2.12-2.0.1.jar:/invoker/lib/elastic4s-http_2.12-6.7.4.jar:/invoker/lib/pureconfig-generic_2.12-0.11.1.jar:/invoker/lib/pureconfig-core_2.12-0.11.1.jar:/invoker/lib/fastparse_2.12-2.1.3.jar:/invoker/lib/sourcecode_2.12-0.1.7.jar:/invoker/lib/scala-java8-compat_2.12-0.8.0.jar:/invoker/lib/ssl-config-core_2.12-0.3.8.jar:/invoker/lib/akka-protobuf_2.12-2.5.26.jar:/invoker/lib/akka-parsing_2.12-10.1.11.jar:/invoker/lib/kamon-core_2.12-2.0.4.jar:/invoker/lib/play-json_2.12-2.7.4.jar:/invoker/lib/elastic4s-core_2.12-6.7.4.jar:/invoker/lib/exts_2.12-1.61.1.jar:/invoker/lib/jackson-module-scala_2.12-2.10.0.jar:/invoker/lib/pureconfig-macros_2.12-0.11.1.jar:/invoker/lib/shapeless_2.12-2.3.3.jar:/invoker/lib/scala-parser-combinators_2.12-1.1.2.jar:/invoker/lib/play-functional_2.12-2.7.4.jar:/invoker/lib/scala-reflect-2.12.8.jar:/invoker/lib/scala-xml_2.12-1.2.0.jar:/invoker/lib/macro-compat_2.12-1.1.1.jar:/invoker/lib/scala-library-2.12.10.jar:/invoker/lib/curator-recipes-4.0.0.jar:/invoker/lib/zookeeper-3.4.11.jar:/invoker/lib/logback-classic-1.2.3.jar:/invoker/lib/jcl-over-slf4j-1.7.25.jar:/invoker/lib/log4j-over-slf4j-1.7.25.jar:/invoker/lib/elasticsearch-rest-client-6.7.2.jar:/invoker/lib/aws-java-sdk-cloudfront-1.11.517.jar:/invoker/lib/aws-java-sdk-core-1.11.517.jar:/invoker/lib/httpclient-4.5.5.jar:/invoker/lib/commons-codec-1.10.jar:/invoker/lib/azure-cosmosdb-2.6.2.jar:/invoker/lib/azure-cosmosdb-direct-2.6.2.jar:/invoker/lib/azure-cosmosdb-gateway-2.6.2.jar:/invoker/lib/azure-cosmosdb-commons-2.6.2.jar:/invoker/lib/commons-io-2.6.jar:/invoker/lib/commons-collections-3.2.2.jar:/invoker/lib/kafka-clients-2.4.0.jar:/invoker/lib/java-uuid-generator-3.1.4.jar:/invoker/lib/caffeine-2.6.2.jar:/invoker/lib/protobuf-java-util-3.3.1.jar:/invoker/lib/curator-framework-4.0.0.jar:/invoker/lib/curator-client-4.0.0.jar:/invoker/lib/guava-27.0.1-jre.jar:/invoker/lib/jsr305-3.0.2.jar:/invoker/lib/kubernetes-client-4.4.2.jar:/invoker/lib/opentracing-util-0.31.0.jar:/invoker/lib/brave-opentracing-0.31.0.jar:/invoker/lib/opentracing-noop-0.31.0.jar:/invoker/lib/opentracing-api-0.31.0.jar:/invoker/lib/zipkin-sender-okhttp3-2.6.1.jar:/invoker/lib/brave-5.0.0.jar:/invoker/lib/zipkin-reporter-2.6.1.jar:/invoker/lib/rxjava-reactive-streams-1.2.1.jar:/invoker/lib/rxjava-extras-0.8.0.17.jar:/invoker/lib/rxjava-string-1.1.1.jar:/invoker/lib/rxnetty-0.4.20.jar:/invoker/lib/rxjava-1.3.8.jar:/invoker/lib/azure-storage-blob-12.6.0.jar:/invoker/lib/audience-annotations-0.5.0.jar:/invoker/lib/netty-3.10.6.Final.jar:/invoker/lib/config-1.3.4.jar:/invoker/lib/azure-storage-common-12.6.0.jar:/invoker/lib/azure-core-http-netty-1.5.0.jar:/invoker/lib/azure-core-1.4.0.jar:/invoker/lib/reactor-netty-0.9.5.RELEASE.jar:/invoker/lib/reactor-core-3.3.3.RELEASE.jar:/invoker/lib/reactive-streams-1.0.3.jar:/invoker/lib/jul-to-slf4j-1.7.26.jar:/invoker/lib/oshi-core-4.2.1.jar:/invoker/lib/metrics-core-4.1.0.jar:/invoker/lib/slf4j-api-1.7.29.jar:/invoker/lib/logback-core-1.2.3.jar:/invoker/lib/zstd-jni-1.4.3-1.jar:/invoker/lib/lz4-java-1.6.0.jar:/invoker/lib/snappy-java-1.1.7.3.jar:/invoker/lib/httpcore-4.4.9.jar:/invoker/lib/kubernetes-model-4.4.2.jar:/invoker/lib/logging-interceptor-3.12.0.jar:/invoker/lib/okhttp-3.12.0.jar:/invoker/lib/jackson-dataformat-yaml-2.9.9.jar:/invoker/lib/zjsonpatch-0.3.0.jar:/invoker/lib/jmespath-java-1.11.517.jar:/invoker/lib/jackson-datatype-jdk8-2.9.8.jar:/invoker/lib/jackson-module-paranamer-2.10.0.jar:/invoker/lib/jackson-datatype-jsr310-2.10.1.jar:/invoker/lib/jackson-dataformat-xml-2.10.1.jar:/invoker/lib/jackson-module-jaxb-annotations-2.10.1.jar:/invoker/lib/jackson-databind-2.10.1.jar:/invoker/lib/jackson-dataformat-cbor-2.6.7.jar:/invoker/lib/jackson-core-2.10.1.jar:/invoker/lib/generex-1.0.2.jar:/invoker/lib/nanohttpd-2.3.1.jar:/invoker/lib/mesos-1.2.3.jar:/invoker/lib/zipkin-2.8.4.jar:/invoker/lib/netty-handler-proxy-4.1.45.Final.jar:/invoker/lib/netty-codec-http2-4.1.45.Final.jar:/invoker/lib/netty-codec-http-4.1.45.Final.jar:/invoker/lib/netty-handler-4.1.45.Final.jar:/invoker/lib/netty-transport-native-epoll-4.1.45.Final-linux-x86_64.jar:/invoker/lib/netty-transport-native-unix-common-4.1.45.Final.jar:/invoker/lib/netty-codec-socks-4.1.45.Final.jar:/invoker/lib/netty-codec-4.1.45.Final.jar:/invoker/lib/netty-transport-4.1.45.Final.jar:/invoker/lib/commons-text-1.6.jar:/invoker/lib/commons-lang3-3.8.1.jar:/invoker/lib/kubernetes-model-common-4.4.2.jar:/invoker/lib/validation-api-2.0.1.Final.jar:/invoker/lib/javax.el-3.0.1-b11.jar:/invoker/lib/okio-1.15.0.jar:/invoker/lib/snakeyaml-1.23.jar:/invoker/lib/automaton-1.11-8.jar:/invoker/lib/jna-platform-5.5.0.jar:/invoker/lib/jna-5.5.0.jar:/invoker/lib/joda-time-2.10.1.jar:/invoker/lib/jackson-annotations-2.10.1.jar:/invoker/lib/protobuf-java-3.3.1.jar:/invoker/lib/gson-2.7.jar:/invoker/lib/aeron-driver-1.15.1.jar:/invoker/lib/aeron-client-1.15.1.jar:/invoker/lib/lmdbjava-0.6.1.jar:/invoker/lib/commons-collections4-4.2.jar:/invoker/lib/micrometer-core-1.2.0.jar:/invoker/lib/netty-buffer-4.1.45.Final.jar:/invoker/lib/netty-resolver-4.1.45.Final.jar:/invoker/lib/netty-common-4.1.45.Final.jar:/invoker/lib/httpasyncclient-4.1.2.jar:/invoker/lib/httpcore-nio-4.4.5.jar:/invoker/lib/ion-java-1.0.2.jar:/invoker/lib/netty-tcnative-boringssl-static-2.0.27.Final.jar:/invoker/lib/agrona-0.9.31.jar:/invoker/lib/jnr-ffi-2.1.7.jar:/invoker/lib/jnr-constants-0.9.9.jar:/invoker/lib/failureaccess-1.0.1.jar:/invoker/lib/listenablefuture-9999.0-empty-to-avoid-conflict-with-guava.jar:/invoker/lib/checker-qual-2.5.2.jar:/invoker/lib/error_prone_annotations-2.2.0.jar:/invoker/lib/j2objc-annotations-1.1.jar:/invoker/lib/animal-sniffer-annotations-1.17.jar:/invoker/lib/HdrHistogram-2.1.11.jar:/invoker/lib/LatencyUtils-2.0.3.jar:/invoker/lib/paranamer-2.8.jar:/invoker/lib/woodstox-core-6.0.2.jar:/invoker/lib/stax2-api-4.2.jar:/invoker/lib/jffi-1.2.16.jar:/invoker/lib/jffi-1.2.16-native.jar:/invoker/lib/asm-commons-5.0.3.jar:/invoker/lib/asm-analysis-5.0.3.jar:/invoker/lib/asm-util-5.0.3.jar:/invoker/lib/asm-tree-5.0.3.jar:/invoker/lib/asm-5.0.3.jar:/invoker/lib/jnr-x86asm-1.0.2.jar:/invoker/lib/jakarta.xml.bind-api-2.3.2.jar:/invoker/lib/jakarta.activation-api-1.2.1.jar:/invoker/ext-lib/*:/invoker/config\n",
                        "[2022-03-24T08:18:06.628Z] [INFO] Client environment:java.library.path=/opt/java/openjdk/lib/compressedrefs:/opt/java/openjdk/lib:/usr/lib64:/usr/lib\n",
                        "[2022-03-24T08:18:06.628Z] [INFO] Client environment:java.io.tmpdir=/tmp\n",
                        "[2022-03-24T08:18:06.628Z] [INFO] Client environment:java.compiler=j9jit29\n",
                        "[2022-03-24T08:18:06.628Z] [INFO] Client environment:os.name=Linux\n",
                        "[2022-03-24T08:18:06.628Z] [INFO] Client environment:os.arch=amd64\n",
                        "[2022-03-24T08:18:06.628Z] [INFO] Client environment:os.version=4.15.0-171-generic\n",
                        "[2022-03-24T08:18:06.628Z] [INFO] Client environment:user.name=root\n",
                        "[2022-03-24T08:18:06.628Z] [INFO] Client environment:user.home=/root\n",
                        "[2022-03-24T08:18:06.628Z] [INFO] Client environment:user.dir=/\n",
                        "[2022-03-24T08:18:06.628Z] [INFO] Initiating client connection, connectString=openwhisk-zookeeper-0.openwhisk-zookeeper.openwhisk.svc.cluster.local:2181 sessionTimeout=60000 watcher=org.apache.curator.ConnectionState@a3a90a1c\n",
                        "[2022-03-24T08:18:06.648Z] [INFO] Default schema\n",
                        "[2022-03-24T08:18:06.650Z] [INFO] Opening socket connection to server openwhisk-zookeeper-0.openwhisk-zookeeper.openwhisk.svc.cluster.local/10.244.1.105:2181. Will not attempt to authenticate using SASL (unknown error)\n",
                        "[2022-03-24T08:18:06.658Z] [INFO] Socket connection established to openwhisk-zookeeper-0.openwhisk-zookeeper.openwhisk.svc.cluster.local/10.244.1.105:2181, initiating session\n",
                        "[2022-03-24T08:18:06.676Z] [INFO] Session establishment complete on server openwhisk-zookeeper-0.openwhisk-zookeeper.openwhisk.svc.cluster.local/10.244.1.105:2181, sessionid = 0x10005c680760003, negotiated timeout = 40000\n",
                        "[2022-03-24T08:18:06.685Z] [INFO] State change: CONNECTED\n",
                        "[2022-03-24T08:18:06.687Z] [INFO] [#tid_sid_unknown] [InstanceIdAssigner] invokerReg: connected to zookeeper\n",
                        "[2022-03-24T08:18:06.712Z] [INFO] [#tid_sid_unknown] [InstanceIdAssigner] invokerReg: invoker openwhisk-invoker-0 was assigned its previous invokerId 0\n",
                        "[2022-03-24T08:18:06.713Z] [INFO] backgroundOperationsLoop exiting\n",
                        "[2022-03-24T08:18:06.724Z] [INFO] Session: 0x10005c680760003 closed\n",
                        "[2022-03-24T08:18:06.724Z] [INFO] EventThread shut down for session: 0x10005c680760003\n",
                        "[2022-03-24T08:18:06.819Z] [WARN] Failed to attach the instrumentation because the Kamon Bundle is not present on the classpath\n",
                        "[2022-03-24T08:18:06.967Z] [INFO] Started the Kamon StatsD reporter\n",
                        "[2022-03-24T08:18:07.485Z] [INFO] [#tid_sid_unknown] [KafkaMessagingProvider] invoker0 already exists and the user can see it, skipping creation.\n",
                        "[2022-03-24T08:18:07.627Z] [INFO] [#tid_sid_unknown] [InvokerReactive] LogStoreProvider: class org.apache.openwhisk.core.containerpool.logging.DockerToActivationLogStore\n",
                        "[2022-03-24T08:18:08.152Z] [INFO] [#tid_sid_unknown] [KubernetesContainerFactory] Cleaning up function runtimes\n",
                        "[2022-03-24T08:18:08.157Z] [INFO] [#tid_sid_invokerNanny] [KubernetesClient] Deleting pods with label Map(invoker -> invoker0, release -> openwhisk) [marker:invoker_kubeapi.delete_start:1878]\n",
                        "[2022-03-24T08:18:08.890Z] [INFO] [#tid_sid_invokerNanny] [KubernetesClient]  [marker:invoker_kubeapi.delete_finish:2611:684]\n",
                        "[2022-03-24T08:18:09.583Z] [INFO] [#tid_sid_invoker] [CouchDbRestStore] [QUERY] 'test_subjects' searching 'namespaceThrottlings/blockedNamespaces [marker:database_queryView_start:3304]\n",
                        "[2022-03-24T08:18:09.841Z] [INFO] [#tid_sid_invoker] [CouchDbRestStore]  [marker:database_queryView_finish:3563:258]\n",
                        "[2022-03-24T08:18:09.842Z] [INFO] [#tid_sid_unknown] [InvokerReactive] updated blacklist to 0 entries\n",
                        "[2022-03-24T08:18:09.870Z] [INFO] [#tid_sid_dispatcher] [MessageFeed] handler capacity = 7890, pipeline fill at = 7890, pipeline depth = 15780\n",
                        "[2022-03-24T08:18:09.912Z] [INFO] [#tid_sid_invokerWarmup] [ContainerPool] found 0 started and 0 starting; initing 2 pre-warms to desired count: 2 for kind:nodejs:10 mem:256 MB\n",
                        "[2022-03-24T08:18:10.205Z] [INFO] [#tid_sid_invokerWarmup] [KubernetesClient] launching pod wskopenwhisk-invoker-00-1-prewarm-nodejs10 (image:openwhisk/action-nodejs-v10:1.16.0, mem: 256) (timeout: 60s) [marker:invoker_kubeapi.create_start:3927]\n",
                        "[2022-03-24T08:18:10.205Z] [INFO] [#tid_sid_invokerWarmup] [KubernetesClient] launching pod wskopenwhisk-invoker-00-2-prewarm-nodejs10 (image:openwhisk/action-nodejs-v10:1.16.0, mem: 256) (timeout: 60s) [marker:invoker_kubeapi.create_start:3927]\n",
                        "[2022-03-24T08:18:10.294Z] [ERROR] [#tid_sid_unknown] [InvokerReactive] terminal failure while processing message: spray.json.DeserializationException: Object is missing required member 'lockedArgs'\n",
                        "[2022-03-24T08:18:17.488Z] [INFO] [#tid_sid_invokerWarmup] [KubernetesClient]  [marker:invoker_kubeapi.create_finish:11210:7283]\n",
                        "[2022-03-24T08:18:18.474Z] [INFO] [#tid_sid_invokerWarmup] [KubernetesClient]  [marker:invoker_kubeapi.create_finish:12196:8269]\n",
                        "[2022-03-24T08:19:10.147Z] [ERROR] [#tid_sid_unknown] [InvokerReactive] terminal failure while processing message: spray.json.DeserializationException: Object is missing required member 'lockedArgs'\n",
                        "[2022-03-24T08:20:10.146Z] [ERROR] [#tid_sid_unknown] [InvokerReactive] terminal failure while processing message: spray.json.DeserializationException: Object is missing required member 'lockedArgs'\n",
                        "[2022-03-24T08:21:10.142Z] [ERROR] [#tid_sid_unknown] [InvokerReactive] terminal failure while processing message: spray.json.DeserializationException: Object is missing required member 'lockedArgs'\n",
                        "[2022-03-24T08:22:10.143Z] [ERROR] [#tid_sid_unknown] [InvokerReactive] terminal failure while processing message: spray.json.DeserializationException: Object is missing required member 'lockedArgs'\n",
                        "[2022-03-24T08:23:09.596Z] [INFO] [#tid_sid_invoker] [CouchDbRestStore] [QUERY] 'test_subjects' searching 'namespaceThrottlings/blockedNamespaces [marker:database_queryView_start:303317]\n",
                        "[2022-03-24T08:23:09.653Z] [INFO] [#tid_sid_invoker] [CouchDbRestStore]  [marker:database_queryView_finish:303375:58]\n",
                        "[2022-03-24T08:23:09.654Z] [INFO] [#tid_sid_unknown] [InvokerReactive] updated blacklist to 0 entries\n",
                        "[2022-03-24T08:23:10.142Z] [ERROR] [#tid_sid_unknown] [InvokerReactive] terminal failure while processing message: spray.json.DeserializationException: Object is missing required member 'lockedArgs'\n",
                        "[2022-03-24T08:24:10.143Z] [ERROR] [#tid_sid_unknown] [InvokerReactive] terminal failure while processing message: spray.json.DeserializationException: Object is missing required member 'lockedArgs'\n",
                        "[2022-03-24T08:25:10.142Z] [ERROR] [#tid_sid_unknown] [InvokerReactive] terminal failure while processing message: spray.json.DeserializationException: Object is missing required member 'lockedArgs'\n",
                        "[2022-03-24T08:26:10.144Z] [ERROR] [#tid_sid_unknown] [InvokerReactive] terminal failure while processing message: spray.json.DeserializationException: Object is missing required member 'lockedArgs'\n",
                        "[2022-03-24T08:27:10.141Z] [ERROR] [#tid_sid_unknown] [InvokerReactive] terminal failure while processing message: spray.json.DeserializationException: Object is missing required member 'lockedArgs'\n",
                        "[2022-03-24T08:28:09.616Z] [INFO] [#tid_sid_invoker] [CouchDbRestStore] [QUERY] 'test_subjects' searching 'namespaceThrottlings/blockedNamespaces [marker:database_queryView_start:603337]\n",
                        "[2022-03-24T08:28:09.668Z] [INFO] [#tid_sid_invoker] [CouchDbRestStore]  [marker:database_queryView_finish:603390:52]\n",
                        "[2022-03-24T08:28:09.669Z] [INFO] [#tid_sid_unknown] [InvokerReactive] updated blacklist to 0 entries\n",
                        "[2022-03-24T08:28:10.142Z] [ERROR] [#tid_sid_unknown] [InvokerReactive] terminal failure while processing message: spray.json.DeserializationException: Object is missing required member 'lockedArgs'\n",
                        "[2022-03-24T08:29:10.144Z] [ERROR] [#tid_sid_unknown] [InvokerReactive] terminal failure while processing message: spray.json.DeserializationException: Object is missing required member 'lockedArgs'\n"
                    ]
                }
            ],
            "source": [
                "!kubectl logs -n openwhisk openwhisk-invoker-0"
            ]
        },
        {
            "cell_type": "code",
            "execution_count": null,
            "id": "07b7343c",
            "metadata": {},
            "outputs": [],
            "source": []
        }
    ],
    "metadata": {
        "interpreter": {
            "hash": "9aab921455daf93c5b5e512768862be38eb2d6dcc418fdb7d8b034605503ac32"
        },
        "kernelspec": {
            "display_name": "Python 3.8.8 64-bit ('base': conda)",
            "name": "python3"
        },
        "language_info": {
            "codemirror_mode": {
                "name": "ipython",
                "version": 3
            },
            "file_extension": ".py",
            "mimetype": "text/x-python",
            "name": "python",
            "nbconvert_exporter": "python",
            "pygments_lexer": "ipython3",
            "version": "3.8.8"
        }
    },
    "nbformat": 4,
    "nbformat_minor": 5
}